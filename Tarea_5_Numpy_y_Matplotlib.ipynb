{
  "nbformat": 4,
  "nbformat_minor": 0,
  "metadata": {
    "colab": {
      "provenance": [],
      "authorship_tag": "ABX9TyN1Wr+9TJCbYoytT6l38rf4",
      "include_colab_link": true
    },
    "kernelspec": {
      "name": "python3",
      "display_name": "Python 3"
    },
    "language_info": {
      "name": "python"
    }
  },
  "cells": [
    {
      "cell_type": "markdown",
      "metadata": {
        "id": "view-in-github",
        "colab_type": "text"
      },
      "source": [
        "<a href=\"https://colab.research.google.com/github/Jetzzza/Tarea-5.-Numpy-y-Matplotlib/blob/main/Tarea_5_Numpy_y_Matplotlib.ipynb\" target=\"_parent\"><img src=\"https://colab.research.google.com/assets/colab-badge.svg\" alt=\"Open In Colab\"/></a>"
      ]
    },
    {
      "cell_type": "markdown",
      "source": [],
      "metadata": {
        "id": "gqwjN6WhrO_-"
      }
    },
    {
      "cell_type": "markdown",
      "source": [
        "# Taller de Herramientas Computacionales\n",
        "\n",
        "**Tarea 5: Numpy y Matplotlib**\n",
        "\n",
        "Elaborado por: Miguel Ángel Carrillo Lucía  \n",
        "Jesús Iván Coss Calderón"
      ],
      "metadata": {
        "id": "GLYyrp1VrPDR"
      }
    },
    {
      "cell_type": "markdown",
      "source": [
        "# **NUMPY**\n",
        "\n",
        "**Programar rutinas en Python que hagan lo siguiente:**"
      ],
      "metadata": {
        "id": "yVHYGwe1rzyF"
      }
    },
    {
      "cell_type": "code",
      "source": [
        "import numpy as np"
      ],
      "metadata": {
        "id": "WMM5nMdvQVCY"
      },
      "execution_count": 1,
      "outputs": []
    },
    {
      "cell_type": "markdown",
      "source": [
        "1. Sumas de matrices rectangulares."
      ],
      "metadata": {
        "id": "wkFg5EcBs53a"
      }
    },
    {
      "cell_type": "code",
      "source": [],
      "metadata": {
        "id": "21JRKPZPtQfS"
      },
      "execution_count": null,
      "outputs": []
    },
    {
      "cell_type": "markdown",
      "source": [
        "2. Multiplicación entrada a entrada de matrices rectangulares."
      ],
      "metadata": {
        "id": "tqpCWRJHtQr-"
      }
    },
    {
      "cell_type": "code",
      "source": [],
      "metadata": {
        "id": "DL_4NEautT4p"
      },
      "execution_count": null,
      "outputs": []
    },
    {
      "cell_type": "markdown",
      "source": [
        "3. La traza de una matriz."
      ],
      "metadata": {
        "id": "Xc4dVx5jtUDy"
      }
    },
    {
      "cell_type": "code",
      "source": [],
      "metadata": {
        "id": "s07htV8vtWLi"
      },
      "execution_count": null,
      "outputs": []
    },
    {
      "cell_type": "markdown",
      "source": [
        "4. La transpuesta de una matriz."
      ],
      "metadata": {
        "id": "ptkesq6ItWVb"
      }
    },
    {
      "cell_type": "code",
      "source": [
        "matriz = np.array([[1, 2, 3],[4, 5, 6],[7, 8, 9]]) # Hacer la matriz\n",
        "\n",
        "filas, columnas = matriz.shape #Sacar el tamaño de la matriz  para la matriz vacía\n",
        "\n",
        "transpuesta = np.zeros((columnas, filas)) # Crear una matriz vacía con np.zeros para poner la transpuesta\n",
        "\n",
        "for i in range(filas):\n",
        "    for j in range(columnas):\n",
        "        transpuesta[j][i] = matriz[i][j] # Se indica como se tiene que construir la matriz transpuesta intercambiando las filas por las colmnas\n",
        "\n",
        "print(transpuesta) # Imprimir la matriz transpuesta\n",
        "\n",
        "\n",
        "\n"
      ],
      "metadata": {
        "id": "ekLg7XyltYoX",
        "colab": {
          "base_uri": "https://localhost:8080/"
        },
        "outputId": "ea7fc3e9-3191-410d-cae3-2e1d1e80ce8b"
      },
      "execution_count": 15,
      "outputs": [
        {
          "output_type": "stream",
          "name": "stdout",
          "text": [
            "[[1. 4. 7.]\n",
            " [2. 5. 8.]\n",
            " [3. 6. 9.]]\n"
          ]
        }
      ]
    },
    {
      "cell_type": "markdown",
      "source": [
        "5. Encontrar el máximo y mínimo elemento en una matriz."
      ],
      "metadata": {
        "id": "syV--t-9tY9F"
      }
    },
    {
      "cell_type": "code",
      "source": [],
      "metadata": {
        "id": "6U3JI0M7tbOk"
      },
      "execution_count": null,
      "outputs": []
    },
    {
      "cell_type": "markdown",
      "source": [
        "6. Calcular la suma del cuadrado de los elementos de una matriz."
      ],
      "metadata": {
        "id": "ynIr9yMmtbW1"
      }
    },
    {
      "cell_type": "code",
      "source": [],
      "metadata": {
        "id": "G8AzypPztdld"
      },
      "execution_count": null,
      "outputs": []
    },
    {
      "cell_type": "markdown",
      "source": [
        "7. La potencia de matrices."
      ],
      "metadata": {
        "id": "lr22CL9stds7"
      }
    },
    {
      "cell_type": "code",
      "source": [],
      "metadata": {
        "id": "rtJjxymDtf9b"
      },
      "execution_count": null,
      "outputs": []
    },
    {
      "cell_type": "markdown",
      "source": [
        "8.Dadas las matrices A y B:\n",
        "\n",
        "\n",
        "A =\n",
        "\\begin{pmatrix}\n",
        "11 & 7 & -1 \\\\\n",
        "-3 & 5 & 2 \\\\\n",
        "4 & 2 & -2\n",
        "\\end{pmatrix}\n",
        "\n",
        "B =\n",
        "\\begin{pmatrix}\n",
        "1 & 1 & 1 \\\\\n",
        "10 & 3 & -5 \\\\\n",
        "-6 & -10 & -3\n",
        "\\end{pmatrix}\n",
        "\n",
        "\n",
        "\n",
        "Calcule:\n",
        "\n",
        "1. 2B + 3A\n",
        "\n",
        "2.  (B + 2A)^2\n",
        "\n",
        "3. (A^2 + 3B)\n",
        "\n"
      ],
      "metadata": {
        "id": "GAuhgHLbtgGN"
      }
    },
    {
      "cell_type": "code",
      "source": [],
      "metadata": {
        "id": "wCHr-vR8t9ax"
      },
      "execution_count": null,
      "outputs": []
    },
    {
      "cell_type": "markdown",
      "source": [
        "# **MATPLOTLIB**"
      ],
      "metadata": {
        "id": "gY4zvew-vIlB"
      }
    },
    {
      "cell_type": "markdown",
      "source": [
        "1. En la clase de ecuaciones diferenciales se pide a los estudiantes encontrar la solución del problema de valor inicial:\n",
        "\n",
        "y = −y + x\n",
        "\n",
        "y(−1) = 5\n",
        "\n",
        "Los estudiantes llegaron a la solución general cuya ecuación es:\n",
        "\n",
        "y = (x − 1) + Ce^−x\n",
        "\n",
        "Apoye a sus compañeros y grafique en python la familia de curvas para la solución de la ecuación diferencial y en un sólo gráfico muestre de diferente color las curvas para los siguientes tres casos:\n",
        "\n",
        "-Para valores de C > 0.\n",
        "\n",
        "-Cuando C = 0.\n",
        "\n",
        "-Para valores de C < 0.\n",
        "\n",
        "Señale en el gráfico las curvas que corresponden a cada uno de los tres casos."
      ],
      "metadata": {
        "id": "sNhx1QwwvMXu"
      }
    },
    {
      "cell_type": "code",
      "source": [],
      "metadata": {
        "id": "1VX3pfROwvAa"
      },
      "execution_count": null,
      "outputs": []
    },
    {
      "cell_type": "markdown",
      "source": [
        "2. Sea la función:\n",
        "\n",
        "3x + 7 / (x^2) -4\n",
        "\n",
        "Utilizando la librería matplotlib:\n",
        "\n",
        "-Grafique la función con línea continua para un rango de -10 a 10, con más de 1000 muestras.\n",
        "\n",
        "-Investigue en la literatura cómo graficar las asíntotas horizontales y verticales. Muéstrelas en el gráfico con líneas punteadas.\n",
        "\n",
        "-Defina los límites del eje y para evitar que la gráfica muestre valores muy altos o muy bajos cerca de las asíntotas verticales.\n",
        "\n",
        "-Añada una leyenda indicando los elementos presentes en la gráfica."
      ],
      "metadata": {
        "id": "2RmDiLwjw0uA"
      }
    },
    {
      "cell_type": "code",
      "source": [],
      "metadata": {
        "id": "dgR2t7Ypx_sF"
      },
      "execution_count": null,
      "outputs": []
    }
  ]
}