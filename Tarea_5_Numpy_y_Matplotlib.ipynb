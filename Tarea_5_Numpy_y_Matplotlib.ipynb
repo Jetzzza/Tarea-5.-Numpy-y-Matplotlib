{
  "nbformat": 4,
  "nbformat_minor": 0,
  "metadata": {
    "colab": {
      "provenance": [],
      "authorship_tag": "ABX9TyM6D04SEuxXTeNqZ4F8wbas",
      "include_colab_link": true
    },
    "kernelspec": {
      "name": "python3",
      "display_name": "Python 3"
    },
    "language_info": {
      "name": "python"
    }
  },
  "cells": [
    {
      "cell_type": "markdown",
      "metadata": {
        "id": "view-in-github",
        "colab_type": "text"
      },
      "source": [
        "<a href=\"https://colab.research.google.com/github/Jetzzza/Tarea-5.-Numpy-y-Matplotlib/blob/main/Tarea_5_Numpy_y_Matplotlib.ipynb\" target=\"_parent\"><img src=\"https://colab.research.google.com/assets/colab-badge.svg\" alt=\"Open In Colab\"/></a>"
      ]
    },
    {
      "cell_type": "markdown",
      "source": [],
      "metadata": {
        "id": "gqwjN6WhrO_-"
      }
    },
    {
      "cell_type": "markdown",
      "source": [
        "# Taller de Herramientas Computacionales\n",
        "\n",
        "**Tarea 5: Numpy y Matplotlib**\n",
        "\n",
        "Elaborado por: Miguel Ángel Carrillo Lucía  \n",
        "Jesús Iván Coss Calderón\n",
        "\n",
        "Equipo: Blanca Estrella Razo Sotelo y Jetzael Gutiérrez Hernandez"
      ],
      "metadata": {
        "id": "GLYyrp1VrPDR"
      }
    },
    {
      "cell_type": "markdown",
      "source": [
        "# **NUMPY**\n",
        "\n",
        "**Programar rutinas en Python que hagan lo siguiente:**"
      ],
      "metadata": {
        "id": "yVHYGwe1rzyF"
      }
    },
    {
      "cell_type": "code",
      "source": [
        "import numpy as np\n",
        "import matplotlib.pyplot as plt"
      ],
      "metadata": {
        "id": "WMM5nMdvQVCY"
      },
      "execution_count": 2,
      "outputs": []
    },
    {
      "cell_type": "markdown",
      "source": [
        "**1. Sumas de matrices rectangulares.**"
      ],
      "metadata": {
        "id": "wkFg5EcBs53a"
      }
    },
    {
      "cell_type": "markdown",
      "source": [
        "*Blanca Estrella Razo Sotelo y Jetzael Gutiérrez Hernandez*"
      ],
      "metadata": {
        "id": "ha_wMZ3cLcKd"
      }
    },
    {
      "cell_type": "code",
      "source": [
        "def suma_matrices_rectangulares():\n",
        "# Titulo\n",
        "  print(\"Suma de matrices rectangulares\")\n",
        "# Solicitar las dimenciones de las matrices\n",
        "  filas = int(input(\"Ingrese el numero de filas: \"))\n",
        "  columnas = int(input(\"Ingrese el numero de columnas: \"))\n",
        "# Solicitar los elementos de la primera matriz\n",
        "  print(\"\\nIngrese los elementos de la primera matriz: \")\n",
        "  matriz1 = []\n",
        "  for i in range(filas):\n",
        "    fila = list(map(float, input(f\"Fila {i+1}: \").split()))\n",
        "    while len(fila) != columnas:\n",
        "      print(\"Error: el numero de columnas debe ser\", columnas)\n",
        "      fila = list(map(float, input(f\"Fila {i+1}: \").split()))\n",
        "    matriz1.append(fila)\n",
        "# Solicitar los elementos de la segunda matriz\n",
        "  print(\"\\nIngrese los elementos de la segunda matriz: \")\n",
        "  matriz2 = []\n",
        "  for i in range(filas):\n",
        "    fila = list(map(float, input(f\"Fila {i+1}: \").split()))\n",
        "    while len(fila) != columnas:\n",
        "      print(\"Error: el numero de columnas debe ser\", columnas)\n",
        "      fila = list(map(float, input(f\"Fila {i+1}: \").split()))\n",
        "    matriz2.append(fila)\n",
        "# Convercion de la listas a matrices Numpy\n",
        "  matriz1_np = np.array(matriz1)\n",
        "  matriz2_np = np.array(matriz2)\n",
        "# Definir la suma\n",
        "  suma = matriz1_np + matriz2_np\n",
        "# Mostrar las matrices involucradas\n",
        "  print(\"\\nLa primera matriz es: \")\n",
        "  print(matriz1_np)\n",
        "  print(\"\\nLa segunda matriz es: \")\n",
        "  print(matriz2_np)\n",
        "\n",
        "# Mostrar el resultado de la suma de matrices\n",
        "  print(\"\\nLa suma de las matrices es: \")\n",
        "  print(suma)\n",
        "# Ejecucion de la funcion\n",
        "suma_matrices_rectangulares()"
      ],
      "metadata": {
        "id": "21JRKPZPtQfS",
        "outputId": "d49b9dfb-1bb1-4d50-8af9-51193a18c038",
        "colab": {
          "base_uri": "https://localhost:8080/"
        }
      },
      "execution_count": 3,
      "outputs": [
        {
          "output_type": "stream",
          "name": "stdout",
          "text": [
            "Suma de matrices rectangulares\n",
            "Ingrese el numero de filas: 3\n",
            "Ingrese el numero de columnas: 4\n",
            "\n",
            "Ingrese los elementos de la primera matriz: \n",
            "Fila 1: -3 3 3 2 3\n",
            "Error: el numero de columnas debe ser 4\n",
            "Fila 1: -3 4 3 3\n",
            "Fila 2: 21 21 4 2\n",
            "Fila 3: 34 23 43 -3\n",
            "\n",
            "Ingrese los elementos de la segunda matriz: \n",
            "Fila 1: -45 23 12 2\n",
            "Fila 2: -23 12 35 3\n",
            "Fila 3: 62 12 18 -5\n",
            "\n",
            "La primera matriz es: \n",
            "[[-3.  4.  3.  3.]\n",
            " [21. 21.  4.  2.]\n",
            " [34. 23. 43. -3.]]\n",
            "\n",
            "La segunda matriz es: \n",
            "[[-45.  23.  12.   2.]\n",
            " [-23.  12.  35.   3.]\n",
            " [ 62.  12.  18.  -5.]]\n",
            "\n",
            "La suma de las matrices es: \n",
            "[[-48.  27.  15.   5.]\n",
            " [ -2.  33.  39.   5.]\n",
            " [ 96.  35.  61.  -8.]]\n"
          ]
        }
      ]
    },
    {
      "cell_type": "markdown",
      "source": [
        "**2. Multiplicación entrada a entrada de matrices rectangulares.**"
      ],
      "metadata": {
        "id": "tqpCWRJHtQr-"
      }
    },
    {
      "cell_type": "markdown",
      "source": [
        "*Blanca Estrella Razo Sotelo y Jetzael Gutiérrez Hernandez*"
      ],
      "metadata": {
        "id": "cfTTq849L2Pl"
      }
    },
    {
      "cell_type": "markdown",
      "source": [
        "\n",
        "\n",
        "*   El código solicita al usuario las dimensiones de las matrices. Asegura que las matrices tengan las mismas dimensiones (el mismo número de filas y columnas) para realizar la multiplicación entrada por entrada.\n",
        "*   El código imprime las matrices originales y el resultado de la multiplicación entrada por entrada.\n",
        "*   El resultado es un array donde cada elemento es el producto de los elementos correspondientes de las dos matrices originales."
      ],
      "metadata": {
        "id": "DIiV0O8ydG9X"
      }
    },
    {
      "cell_type": "code",
      "source": [
        "def multiplicacion_matrices_rectangulares():\n",
        "# Titulo\n",
        "  print(\"Multiplicacion de matrices rectangulares\")\n",
        "# Solicitar las dimenciones de las matrices\n",
        "  while True:\n",
        "    try:\n",
        "      filas = int(input(\"Ingrese el numero de filas de la primera matriz: \"))\n",
        "      columnas = int(input(\"Ingrese el numero de columnas de la segunda matriz: \"))\n",
        "      break\n",
        "    except ValueError:\n",
        "      print(\"Error: el numero de filas y columnas debe ser un numero entero\")\n",
        "# Solicitar los elementos de la primera matriz\n",
        "  print(\"\\nIngrese los elementos de la primera matriz: \")\n",
        "  matriz1 = []\n",
        "  for i in range(filas):\n",
        "    while True:\n",
        "      try:\n",
        "        fila = list(map(float, input(f\"Fila {i+1}: \").split()))\n",
        "        if len(fila) == columnas:\n",
        "          matriz1.append(fila)\n",
        "          break\n",
        "        else:\n",
        "          print(\"Error: el numero de columnas de la primera matriz debe ser\", columnas)\n",
        "      except ValueError:\n",
        "        print(\"Error: los elementos de la matriz deben ser numeros\")\n",
        "# Solicitar los elementos de la segunda matriz\n",
        "  print(\"\\nIngrese los elementos de la segunda matriz: \")\n",
        "  matriz2 = []\n",
        "  for i in range(filas):\n",
        "    while True:\n",
        "      try:\n",
        "        fila = list(map(float, input(f\"Fila {i+1}: \").split()))\n",
        "        if len(fila) == columnas:\n",
        "          matriz2.append(fila)\n",
        "          break\n",
        "        else:\n",
        "          print(\"Error: el numero de filas de la segunda matriz debe ser\", columnas)\n",
        "      except ValueError:\n",
        "        print(\"Error: los elementos de la matriz deben ser numeros\")\n",
        "# Convercion de las matrices a formato Numpy\n",
        "  matriz1_np = np.array(matriz1)\n",
        "  matriz2_np = np.array(matriz2)\n",
        "# Definimos la multiplicacion\n",
        "  producto = matriz1_np * matriz2_np\n",
        "# Mostrar las matrices involucradas\n",
        "  print(\"\\nLa primera matriz es: \")\n",
        "  print(matriz1_np)\n",
        "  print(\"\\nLa segunda matriz es: \")\n",
        "  print(matriz2_np)\n",
        "# Mostrar el resultado de la suma de matrices\n",
        "  print(\"\\nEl producto de las matrices es: \")\n",
        "  print(producto)\n",
        "# Ejecucion de la funcion\n",
        "multiplicacion_matrices_rectangulares()"
      ],
      "metadata": {
        "id": "DL_4NEautT4p",
        "outputId": "80ee7d8d-ed26-4011-db0a-7f40dc8c7e41",
        "colab": {
          "base_uri": "https://localhost:8080/"
        }
      },
      "execution_count": 4,
      "outputs": [
        {
          "output_type": "stream",
          "name": "stdout",
          "text": [
            "Multiplicacion de matrices rectangulares\n",
            "Ingrese el numero de filas de la primera matriz: 3\n",
            "Ingrese el numero de columnas de la segunda matriz: 4\n",
            "\n",
            "Ingrese los elementos de la primera matriz: \n",
            "Fila 1: -3 23 23 2 2\n",
            "Error: el numero de columnas de la primera matriz debe ser 4\n",
            "Fila 1: 23 -2 -13 2\n",
            "Fila 2: -24 23 15 2\n",
            "Fila 3: 2 5 4 -2\n",
            "\n",
            "Ingrese los elementos de la segunda matriz: \n",
            "Fila 1: 14 -2 13 -6\n",
            "Fila 2: -23 -15 23 2\n",
            "Fila 3: 26 -26 45 7\n",
            "\n",
            "La primera matriz es: \n",
            "[[ 23.  -2. -13.   2.]\n",
            " [-24.  23.  15.   2.]\n",
            " [  2.   5.   4.  -2.]]\n",
            "\n",
            "La segunda matriz es: \n",
            "[[ 14.  -2.  13.  -6.]\n",
            " [-23. -15.  23.   2.]\n",
            " [ 26. -26.  45.   7.]]\n",
            "\n",
            "El producto de las matrices es: \n",
            "[[ 322.    4. -169.  -12.]\n",
            " [ 552. -345.  345.    4.]\n",
            " [  52. -130.  180.  -14.]]\n"
          ]
        }
      ]
    },
    {
      "cell_type": "markdown",
      "source": [
        "**3. La traza de una matriz.**"
      ],
      "metadata": {
        "id": "Xc4dVx5jtUDy"
      }
    },
    {
      "cell_type": "markdown",
      "source": [
        "*Blanca Estrella Razo Sotelo y Jetzael Gutiérrez Hernandez*"
      ],
      "metadata": {
        "id": "hRvS5nT9L385"
      }
    },
    {
      "cell_type": "markdown",
      "source": [
        "*   Se solicita al usuario las dimensiones de la matriz. La matriz debe ser cuadrada, es decir, el número de filas debe ser igual al número de columnas.\n",
        "*   Usamos la función np.trace(), que devuelve la suma de los elementos de la diagonal principal de la matriz.\n",
        "*   El código imprime la matriz ingresada y luego la traza calculada."
      ],
      "metadata": {
        "id": "tssdCSh9lRRf"
      }
    },
    {
      "cell_type": "code",
      "source": [
        "def traza_matriz():\n",
        "# Titulo\n",
        "  print(\"Traza de una matriz\")\n",
        "# Solicitar las dimenciones de las matrices\n",
        "  while True:\n",
        "    try:\n",
        "      filas = int(input(\"Ingrese el numero de filas de la matriz: \"))\n",
        "      columnas = int(input(\"Ingrese el numero de columnas de la matriz: \"))\n",
        "      break\n",
        "    except ValueError:\n",
        "      print(\"Error: el numero de filas y columnas debe ser un numero entero\")\n",
        "# Solicitar los elementos de la matriz\n",
        "  print(\"\\nIngrese los elementos de la matriz: \")\n",
        "  matriz = []\n",
        "  for i in range(filas):\n",
        "    while True:\n",
        "      try:\n",
        "        fila = list(map(float, input(f\"Fila {i+1}: \").split()))\n",
        "        if len(fila) == columnas:\n",
        "          matriz.append(fila)\n",
        "          break\n",
        "      except ValueError:\n",
        "        print(\"Error: los elementos de la matriz deben ser numeros\")\n",
        "# Convercion de las matrices a formato Numpy\n",
        "  matriz_np = np.array(matriz)\n",
        "# Calcular la traza (la suma de los elementos de la diagonal principal)\n",
        "  traza = np.trace(matriz_np)\n",
        "# Mostrar la traza ingresada\n",
        "  print(\"\\nLa matriz es: \")\n",
        "  print(matriz_np)\n",
        "# Mostrar el resultado de la traza\n",
        "  print(\"\\nLa traza de la matriz es: \")\n",
        "  print(traza)\n",
        "# Ejecucion de la funcion\n",
        "traza_matriz()"
      ],
      "metadata": {
        "id": "s07htV8vtWLi",
        "outputId": "ee1fb6b9-289d-47f4-e589-2c70115815dc",
        "colab": {
          "base_uri": "https://localhost:8080/"
        }
      },
      "execution_count": 5,
      "outputs": [
        {
          "output_type": "stream",
          "name": "stdout",
          "text": [
            "Traza de una matriz\n",
            "Ingrese el numero de filas de la matriz: 3\n",
            "Ingrese el numero de columnas de la matriz: 3\n",
            "\n",
            "Ingrese los elementos de la matriz: \n",
            "Fila 1: 23 -3 2\n",
            "Fila 2: 12 -5 3\n",
            "Fila 3: -2 4 23\n",
            "\n",
            "La matriz es: \n",
            "[[23. -3.  2.]\n",
            " [12. -5.  3.]\n",
            " [-2.  4. 23.]]\n",
            "\n",
            "La traza de la matriz es: \n",
            "41.0\n"
          ]
        }
      ]
    },
    {
      "cell_type": "markdown",
      "source": [
        "**4. La transpuesta de una matriz.**"
      ],
      "metadata": {
        "id": "ptkesq6ItWVb"
      }
    },
    {
      "cell_type": "markdown",
      "source": [
        "*Blanca Estrella Razo Sotelo y Jetzael Gutiérrez Hernandez*"
      ],
      "metadata": {
        "id": "oCmdw8-LL4wO"
      }
    },
    {
      "cell_type": "code",
      "source": [
        "def transpuesta_matriz():\n",
        "    print(\"Transpuesta de una matriz\")\n",
        "\n",
        "    while True:\n",
        "        try:\n",
        "            filas = int(input(\"Introduzca el número de filas para la matriz: \"))\n",
        "            columnas = int(input(\"Introduzca el número de columnas para la matriz: \"))\n",
        "            break #Se piden las longitudes para la matriz por fila y columna\n",
        "        except ValueError:\n",
        "            print(\"El número de filas y columnas debe ser un número entero\") #Por sí el usuario ingresa un valor no permitido\n",
        "\n",
        "    print(\"\\nIngrese los elementos de la matriz: \")\n",
        "    matriz = []\n",
        "    for i in range(filas):\n",
        "        while True:\n",
        "            try:\n",
        "                fila = list(map(float, input(f\"Fila {i+1}: \").split()))\n",
        "                if len(fila) == columnas:\n",
        "                    matriz.append(fila)\n",
        "                    break #Ir llenando las filas de la matriz solicitada previamente\n",
        "                else:\n",
        "                    print(f\"Debe ingresar exactamente {columnas} elementos\")\n",
        "            except ValueError:\n",
        "                print(\"Los elementos de la matriz deben ser números\") #Verificar que sean números, y sí lo son, que no sean más de los que se pidió\n",
        "\n",
        "    transpuesta = []\n",
        "    for j in range(columnas):\n",
        "        nueva_fila = []\n",
        "        for i in range(filas):\n",
        "            nueva_fila.append(matriz[i][j])\n",
        "        transpuesta.append(nueva_fila)\n",
        "\n",
        "    #Matriz ingresada\n",
        "    print(\"\\nLa matriz es: \")\n",
        "    for fila in matriz:\n",
        "        print(fila)\n",
        "\n",
        "    #Matriz transpuesta\n",
        "    print(\"\\nLa transpuesta de la matriz es: \")\n",
        "    for fila in transpuesta:\n",
        "        print(fila)\n",
        "\n",
        "transpuesta_matriz()"
      ],
      "metadata": {
        "id": "ekLg7XyltYoX",
        "colab": {
          "base_uri": "https://localhost:8080/"
        },
        "outputId": "5c4ca5ab-3bbe-4ce8-ba80-022722720271"
      },
      "execution_count": 8,
      "outputs": [
        {
          "output_type": "stream",
          "name": "stdout",
          "text": [
            "Transpuesta de una matriz\n",
            "Introduzca el número de filas para la matriz: 4\n",
            "Introduzca el número de columnas para la matriz: 5\n",
            "\n",
            "Ingrese los elementos de la matriz: \n",
            "Fila 1: 1 2 3 -4 5\n",
            "Fila 2: 34 54 67 7 -8\n",
            "Fila 3: 2 3 4 5  6 7 8 8 -8\n",
            "Error: debe ingresar exactamente 5 elementos\n",
            "Fila 3: 0 9 8 7 6\n",
            "Fila 4: -10 -9 -8 -7 -6\n",
            "\n",
            "La matriz es: \n",
            "[1.0, 2.0, 3.0, -4.0, 5.0]\n",
            "[34.0, 54.0, 67.0, 7.0, -8.0]\n",
            "[0.0, 9.0, 8.0, 7.0, 6.0]\n",
            "[-10.0, -9.0, -8.0, -7.0, -6.0]\n",
            "\n",
            "La transpuesta de la matriz es: \n",
            "[1.0, 34.0, 0.0, -10.0]\n",
            "[2.0, 54.0, 9.0, -9.0]\n",
            "[3.0, 67.0, 8.0, -8.0]\n",
            "[-4.0, 7.0, 7.0, -7.0]\n",
            "[5.0, -8.0, 6.0, -6.0]\n"
          ]
        }
      ]
    },
    {
      "cell_type": "markdown",
      "source": [
        "**5. Encontrar el máximo y mínimo elemento en una matriz.**"
      ],
      "metadata": {
        "id": "syV--t-9tY9F"
      }
    },
    {
      "cell_type": "markdown",
      "source": [
        "*Blanca Estrella Razo Sotelo y Jetzael Gutiérrez Hernandez*"
      ],
      "metadata": {
        "id": "GJJLPkQjL7hh"
      }
    },
    {
      "cell_type": "code",
      "source": [
        "def max_min_matriz():\n",
        "    print(\"Máximo y Mínimo de una matriz\")\n",
        "\n",
        "    while True:\n",
        "        try:\n",
        "            filas = int(input(\"Ingrese el número de filas de la matriz: \"))\n",
        "            columnas = int(input(\"Ingrese el número de columnas de la matriz: \"))\n",
        "            break #Se piden las longitudes para la matriz por fila y columna\n",
        "        except ValueError:\n",
        "            print(\"El número de filas y columnas debe ser un número entero\") #Por sí el usuario ingresa un valor no permitido\n",
        "\n",
        "    print(\"\\nIngrese los elementos de la matriz: \")\n",
        "    matriz = []\n",
        "    for i in range(filas):\n",
        "        while True:\n",
        "            try:\n",
        "                fila = list(map(float, input(f\"Fila {i+1}: \").split()))\n",
        "                if len(fila) == columnas:\n",
        "                    matriz.append(fila)\n",
        "                    break #Ir llenando las filas de la matriz solicitada previamente\n",
        "                else:\n",
        "                    print(f\"Debe ingresar exactamente {columnas} elementos para la fila {i+1}.\")\n",
        "            except ValueError:\n",
        "                print(\"Los elementos de la matriz deben ser números\") #Verificar que sean números, y sí lo son, que no sean más de los que se pidió\n",
        "\n",
        "    matriz_np = np.array(matriz)\n",
        "\n",
        "    maximo = matriz_np[0, 0]\n",
        "    minimo = matriz_np[0, 0]\n",
        "\n",
        "    for i in range(filas):\n",
        "        for j in range(columnas):\n",
        "            if matriz_np[i, j] > maximo:\n",
        "                maximo = matriz_np[i, j]\n",
        "            if matriz_np[i, j] < minimo:\n",
        "                minimo = matriz_np[i, j] #Se recorre todos los elementos de la matriz utilizando bucles anidados:\n",
        "#Si un elemento es mayor que el actual máximo, se actualiza el máximo.\n",
        "#Si un elemento es menor que el actual mínimo se actualiza el mínimo.\n",
        "\n",
        "    #Se genera la matriz ingresada\n",
        "    print(\"\\nLa matriz es: \")\n",
        "    print(matriz_np)\n",
        "\n",
        "    #Se muestra cual es el máximo y mínimo\n",
        "    print(\"\\nEl máximo elemento de la matriz es:\", maximo)\n",
        "    print(\"El mínimo elemento de la matriz es:\", minimo)\n",
        "\n",
        "max_min_matriz()"
      ],
      "metadata": {
        "id": "6U3JI0M7tbOk",
        "outputId": "84f41710-773a-4032-cc62-5364dae58160",
        "colab": {
          "base_uri": "https://localhost:8080/"
        }
      },
      "execution_count": 9,
      "outputs": [
        {
          "output_type": "stream",
          "name": "stdout",
          "text": [
            "Máximo y Mínimo de una matriz\n",
            "Ingrese el número de filas de la matriz: 2\n",
            "Ingrese el número de columnas de la matriz: 2\n",
            "\n",
            "Ingrese los elementos de la matriz: \n",
            "Fila 1: -10 2 3 a\n",
            "Error: los elementos de la matriz deben ser números\n",
            "Fila 1: 987 77 7\n",
            "Error: debe ingresar exactamente 2 elementos para la fila 1.\n",
            "Fila 1: 2 -9\n",
            "Fila 2: -10 3\n",
            "\n",
            "La matriz es: \n",
            "[[  2.  -9.]\n",
            " [-10.   3.]]\n",
            "\n",
            "El máximo elemento de la matriz es: 3.0\n",
            "El mínimo elemento de la matriz es: -10.0\n"
          ]
        }
      ]
    },
    {
      "cell_type": "markdown",
      "source": [
        "6. Calcular la suma del cuadrado de los elementos de una matriz."
      ],
      "metadata": {
        "id": "ynIr9yMmtbW1"
      }
    },
    {
      "cell_type": "markdown",
      "source": [
        "*Blanca Estrella Razo Sotelo y Jetzael Gutiérrez Hernandez*"
      ],
      "metadata": {
        "id": "CyWGhiQrL8wx"
      }
    },
    {
      "cell_type": "code",
      "source": [
        "def suma_cuadrados_matriz():\n",
        "    print(\"Suma del cuadrado de los elementos de una matriz\")\n",
        "\n",
        "    while True:\n",
        "        try:\n",
        "            filas = int(input(\"Ingrese el número de filas de la matriz: \"))\n",
        "            columnas = int(input(\"Ingrese el número de columnas de la matriz: \"))\n",
        "            break #Se piden las longitudes para la matriz por fila y columna\n",
        "        except ValueError:\n",
        "            print(\"El número de filas y columnas debe ser un número entero\") #Por sí el usuario ingresa un valor no permitido\n",
        "\n",
        "    print(\"\\nIngrese los elementos de la matriz: \")\n",
        "    matriz = []\n",
        "    for i in range(filas):\n",
        "        while True:\n",
        "            try:\n",
        "                fila = list(map(float, input(f\"Fila {i+1}: \").split()))\n",
        "                if len(fila) == columnas:\n",
        "                    matriz.append(fila)\n",
        "                    break #Ir llenando las filas de la matriz solicitada previamente\n",
        "                else:\n",
        "                    print(f\"Debe ingresar exactamente {columnas} números para la fila\")\n",
        "            except ValueError:\n",
        "                print(\"Los elementos de la matriz deben ser números\") #Verificar que sean números, y sí lo son, que no sean más de los que se pidió\n",
        "\n",
        "    matriz_np = np.array(matriz)\n",
        "\n",
        "    suma_cuadrados = 0\n",
        "    for i in range(filas):\n",
        "        for j in range(columnas):\n",
        "            suma_cuadrados = suma_cuadrados + (matriz_np[i, j] ** 2) #Bucle para ir generando los cuadrados de cada elemento y sumarlos\n",
        "\n",
        "    #Matriz ingresada\n",
        "    print(\"\\nLa matriz es: \")\n",
        "    print(matriz_np)\n",
        "\n",
        "    #Suma de los cuadrados\n",
        "    print(\"\\nLa suma del cuadrado de los elementos de la matriz es:\", suma_cuadrados)\n",
        "\n",
        "suma_cuadrados_matriz()"
      ],
      "metadata": {
        "id": "G8AzypPztdld",
        "outputId": "e27bd962-6ecd-46d4-ac90-6cdd577304a9",
        "colab": {
          "base_uri": "https://localhost:8080/"
        }
      },
      "execution_count": 11,
      "outputs": [
        {
          "output_type": "stream",
          "name": "stdout",
          "text": [
            "Suma del cuadrado de los elementos de una matriz\n",
            "Ingrese el número de filas de la matriz: 3\n",
            "Ingrese el número de columnas de la matriz: 3\n",
            "\n",
            "Ingrese los elementos de la matriz: \n",
            "Fila 1: 1\n",
            "Error: debe ingresar exactamente 3 elementos para la fila 1.\n",
            "Fila 1: \n",
            "Error: debe ingresar exactamente 3 elementos para la fila 1.\n",
            "Fila 1: w\n",
            "Error: los elementos de la matriz deben ser números\n",
            "Fila 1: 1 1 2\n",
            "Fila 2: 1 1 3\n",
            "Fila 3: 1 0 0\n",
            "\n",
            "La matriz es: \n",
            "[[1. 1. 2.]\n",
            " [1. 1. 3.]\n",
            " [1. 0. 0.]]\n",
            "\n",
            "La suma del cuadrado de los elementos de la matriz es: 18.0\n"
          ]
        }
      ]
    },
    {
      "cell_type": "markdown",
      "source": [
        "7. La potencia de matrices."
      ],
      "metadata": {
        "id": "lr22CL9stds7"
      }
    },
    {
      "cell_type": "markdown",
      "source": [
        "*Blanca Estrella Razo Sotelo y Jetzael Gutiérrez Hernandez*"
      ],
      "metadata": {
        "id": "fRHGAmTzL9tb"
      }
    },
    {
      "cell_type": "markdown",
      "source": [
        "*   La matriz debe ser cuadrada, es decir, el número de filas debe ser igual al número de columnas.\n"
      ],
      "metadata": {
        "id": "DDZN2fLOEmbs"
      }
    },
    {
      "cell_type": "code",
      "source": [
        "def potencia_matriz():\n",
        "    print(\"Cálculo de la potencia de una matriz\")\n",
        "\n",
        "    while True:\n",
        "        try:\n",
        "            filas = int(input(\"Ingrese el número de filas de la matriz: \"))\n",
        "            columnas = int(input(\"Ingrese el número de columnas de la matriz: \"))\n",
        "            if filas == columnas:\n",
        "                break #Se piden las longitudes para la matriz por fila y columna, en este caso debemos pedir rigurosamente una mtriz cuadrada\n",
        "            else:\n",
        "                print(\"La matriz debe tener mismo número de filas y número de columnas).\")\n",
        "        except ValueError:\n",
        "            print(\"El número de filas y columnas debe ser un número entero\")\n",
        "\n",
        "    print(\"\\nIngrese los elementos de la matriz: \")\n",
        "    matriz = []\n",
        "    for i in range(filas):\n",
        "        while True:\n",
        "            try:\n",
        "                fila = list(map(float, input(f\"Fila {i+1}: \").split()))\n",
        "                if len(fila) == columnas:\n",
        "                    matriz.append(fila)\n",
        "                    break #Ir llenando las filas de la matriz solicitada previamente\n",
        "                else:\n",
        "                    print(f\"Se debe ingresar exactamente {columnas}\")\n",
        "            except ValueError:\n",
        "                print(\"Los elementos de la matriz deben ser números\")\n",
        "\n",
        "    matriz_np = np.array(matriz)\n",
        "\n",
        "    #Pedimos la potencia a la que se va a elevar la matriz\n",
        "    while True:\n",
        "        try:\n",
        "            potencia = int(input(\"Ingrese la potencia a la que desea elevar la matriz (número entero positivo): \"))\n",
        "            if potencia >= 0:\n",
        "                break\n",
        "            else:\n",
        "                print(\"Laa potencia debe ser un número entero positivo.\")\n",
        "        except ValueError:\n",
        "            print(\"La potencia debe ser un número entero.\")\n",
        "\n",
        "    resultado = np.zeros((filas, columnas))  #Matriz de ceros del mismo tamaño que la matriz original\n",
        "\n",
        "    for i in range(filas):\n",
        "        resultado[i][i] = 1  #Para que la diagonal principal sea 1\n",
        "\n",
        "    #Se Multiplica la matriz por sí misma 'potencia' veces\n",
        "    for _ in range(potencia):\n",
        "        resultado = np.dot(resultado, matriz_np)  # Multiplicación de matrices\n",
        "\n",
        "    #Matriz original y matriz elevada a la potencia pedida\n",
        "    print(\"\\nLa matriz original es:\")\n",
        "    print(matriz_np)\n",
        "    print(f\"\\nLa matriz elevada a la potencia {potencia} es:\")\n",
        "    print(resultado)\n",
        "\n",
        "potencia_matriz()"
      ],
      "metadata": {
        "id": "rtJjxymDtf9b",
        "outputId": "a10ced2b-c808-4483-8aae-1ed5dc7468af",
        "colab": {
          "base_uri": "https://localhost:8080/"
        }
      },
      "execution_count": 12,
      "outputs": [
        {
          "output_type": "stream",
          "name": "stdout",
          "text": [
            "Cálculo de la potencia de una matriz\n",
            "Ingrese el número de filas de la matriz: 2\n",
            "Ingrese el número de columnas de la matriz: 2\n",
            "\n",
            "Ingrese los elementos de la matriz: \n",
            "Fila 1: 2 2\n",
            "Fila 2: 222 2 2 2\n",
            "Se debe ingresar exactamente 2\n",
            "Fila 2: 2 2\n",
            "Ingrese la potencia a la que desea elevar la matriz (número entero positivo): 2\n",
            "\n",
            "La matriz original es:\n",
            "[[2. 2.]\n",
            " [2. 2.]]\n",
            "\n",
            "La matriz elevada a la potencia 2 es:\n",
            "[[8. 8.]\n",
            " [8. 8.]]\n"
          ]
        }
      ]
    },
    {
      "cell_type": "markdown",
      "source": [
        "8.Dadas las matrices A y B:\n",
        "\n",
        "\n",
        "A =\n",
        "\\begin{pmatrix}\n",
        "11 & 7 & -1 \\\\\n",
        "-3 & 5 & 2 \\\\\n",
        "4 & 2 & -2\n",
        "\\end{pmatrix}\n",
        "\n",
        "B =\n",
        "\\begin{pmatrix}\n",
        "1 & 1 & 1 \\\\\n",
        "10 & 3 & -5 \\\\\n",
        "-6 & -10 & -3\n",
        "\\end{pmatrix}\n",
        "\n",
        "\n",
        "\n",
        "Calcule:\n",
        "\n",
        "1. 2B + 3A\n",
        "\n",
        "2.  (B + 2A)^2\n",
        "\n",
        "3. (A^2 + 3B)\n",
        "\n"
      ],
      "metadata": {
        "id": "GAuhgHLbtgGN"
      }
    },
    {
      "cell_type": "markdown",
      "source": [
        "*Blanca Estrella Razo Sotelo y Jetzael Gutiérrez Hernandez*"
      ],
      "metadata": {
        "id": "7D-a4UJEL_IA"
      }
    },
    {
      "cell_type": "code",
      "source": [
        "# Definimos las matrices A y B\n",
        "A = np.array([[11, 7, -1],\n",
        "              [-3, 5, 2],\n",
        "              [4, 2, -2]])\n",
        "B = np.array([[1, 1, 1],\n",
        "              [10, 3, -5],\n",
        "              [-6, -10, -3]])\n",
        "# Calcular 2B + 3A\n",
        "operacion_1 = 2*B + 3*A\n",
        "# Calcular (B + 2A)^2\n",
        "operacion_2 = np.dot(B+2*A, B+2*A)\n",
        "# Calcular A^2 + 3B\n",
        "operacion_3 = np.dot(A,A)+3*B\n",
        "\n",
        "# Imprencion de los resultados\n",
        "\n",
        "print(\"El resultado de la primera operacion, 2B + 3A, es: \")\n",
        "print(operacion_1)\n",
        "\n",
        "print(\"\\nEl resultado de la segunda operacion, (B + 2A)^2,  es: \")\n",
        "print(operacion_2)\n",
        "\n",
        "print(\"\\nEl resultado de la tercera operacion, A^2 + 3B,  es: \")\n",
        "print(operacion_3)"
      ],
      "metadata": {
        "id": "wCHr-vR8t9ax",
        "outputId": "49f720ae-01d6-4eb6-ce51-e238186ee0fc",
        "colab": {
          "base_uri": "https://localhost:8080/"
        }
      },
      "execution_count": 6,
      "outputs": [
        {
          "output_type": "stream",
          "name": "stdout",
          "text": [
            "El resultado de la primera operacion, 2B + 3A, es: \n",
            "[[ 35  23  -1]\n",
            " [ 11  21  -4]\n",
            " [  0 -14 -12]]\n",
            "\n",
            "El resultado de la segunda operacion, (B + 2A)^2,  es: \n",
            "[[587 546 -31]\n",
            " [142 235 -10]\n",
            " [  8  -6  53]]\n",
            "\n",
            "El resultado de la tercera operacion, A^2 + 3B,  es: \n",
            "[[ 99 113   8]\n",
            " [-10  17  -6]\n",
            " [ 12   4  -5]]\n"
          ]
        }
      ]
    },
    {
      "cell_type": "markdown",
      "source": [
        "# **MATPLOTLIB**"
      ],
      "metadata": {
        "id": "gY4zvew-vIlB"
      }
    },
    {
      "cell_type": "markdown",
      "source": [
        "1. En la clase de ecuaciones diferenciales se pide a los estudiantes encontrar la solución del problema de valor inicial:\n",
        "\n",
        "y = −y + x\n",
        "\n",
        "y(−1) = 5\n",
        "\n",
        "Los estudiantes llegaron a la solución general cuya ecuación es:\n",
        "\n",
        "y = (x − 1) + Ce^−x\n",
        "\n",
        "Apoye a sus compañeros y grafique en python la familia de curvas para la solución de la ecuación diferencial y en un sólo gráfico muestre de diferente color las curvas para los siguientes tres casos:\n",
        "\n",
        "-Para valores de C > 0.\n",
        "\n",
        "-Cuando C = 0.\n",
        "\n",
        "-Para valores de C < 0.\n",
        "\n",
        "Señale en el gráfico las curvas que corresponden a cada uno de los tres casos."
      ],
      "metadata": {
        "id": "sNhx1QwwvMXu"
      }
    },
    {
      "cell_type": "markdown",
      "source": [
        "*Blanca Estrella Razo Sotelo y Jetzael Gutiérrez Hernandez*"
      ],
      "metadata": {
        "id": "T9pPvvTbMDWH"
      }
    },
    {
      "cell_type": "markdown",
      "source": [
        "*   La función solucion(x, C) calcula la ecuacion diferencial y=(x-1)+Ce^-x\n",
        "*   Proporciona una solución visual clara de cómo la constante C afecta a la familia de curvas de la ecuación diferencial.\n"
      ],
      "metadata": {
        "id": "L6mppqEIlf1J"
      }
    },
    {
      "cell_type": "code",
      "source": [
        "# Definir la función de la solución general de la ecuación diferencial\n",
        "def solucion(x, C):\n",
        "  return (x-1)+C*np.exp(-x)\n",
        "# Rango de valores para x\n",
        "x = np.linspace(-3, 3, 400)\n",
        "# Los valores de C para los tres casos\n",
        "C_positivo = [1, 2, 3]   # C>0\n",
        "C_cero = [0]   # C=0\n",
        "C_negativo = [-1, -2, -3]   # C<0\n",
        "# Creacion del grafico\n",
        "plt.figure(figsize=(10, 6))\n",
        "# Graficar para valores de C > 0\n",
        "for C in C_positivo:\n",
        "  plt.plot(x, solucion(x, C), label=f\"C = {C}\", linestyle=\"--\", color=\"c\")\n",
        "# Graficar para C = 0\n",
        "for C in C_cero:\n",
        "  plt.plot(x, solucion(x, C), label=f\"C = {C}\", linestyle=\"-\", color=\"r\")\n",
        "# Graficar para valores de C < 0\n",
        "for C in C_negativo:\n",
        "  plt.plot(x, solucion(x, C), label=f\"C = {C}\", linestyle=\":\", color=\"g\")\n",
        "# Los titulos y etiquetas\n",
        "plt.title(\"familia de curvas para la solución de la ecuación diferencial\", fontsize=16)\n",
        "plt.xlabel(\"x\", fontsize=14)\n",
        "plt.ylabel(\"y\", fontsize=14)\n",
        "plt.legend()\n",
        "plt.grid(True)\n",
        "plt.show()\n",
        "# Mostrar grafica"
      ],
      "metadata": {
        "id": "1VX3pfROwvAa",
        "outputId": "4316c50f-cf11-44ee-f334-d1a2a33c77b4",
        "colab": {
          "base_uri": "https://localhost:8080/",
          "height": 573
        }
      },
      "execution_count": 7,
      "outputs": [
        {
          "output_type": "display_data",
          "data": {
            "text/plain": [
              "<Figure size 1000x600 with 1 Axes>"
            ],
            "image/png": "[encoded data removed]"
          },
          "metadata": {}
        }
      ]
    },
    {
      "cell_type": "markdown",
      "source": [
        "2. Sea la función:\n",
        "\n",
        "3x + 7 / (x^2) -4\n",
        "\n",
        "Utilizando la librería matplotlib:\n",
        "\n",
        "-Grafique la función con línea continua para un rango de -10 a 10, con más de 1000 muestras.\n",
        "\n",
        "-Investigue en la literatura cómo graficar las asíntotas horizontales y verticales. Muéstrelas en el gráfico con líneas punteadas.\n",
        "\n",
        "-Defina los límites del eje y para evitar que la gráfica muestre valores muy altos o muy bajos cerca de las asíntotas verticales.\n",
        "\n",
        "-Añada una leyenda indicando los elementos presentes en la gráfica."
      ],
      "metadata": {
        "id": "2RmDiLwjw0uA"
      }
    },
    {
      "cell_type": "markdown",
      "source": [
        "*Blanca Estrella Razo Sotelo y Jetzael Gutiérrez Hernandez*"
      ],
      "metadata": {
        "id": "3YccIH-FMGo-"
      }
    },
    {
      "cell_type": "code",
      "source": [
        "def f(x):\n",
        "    return (3 * x + 7) / (x**2 - 4)\n",
        "\n",
        "x = np.linspace(-10, 10, 1000)\n",
        "y = f(x) #Generamos valores de x en el rango de -10 a 10\n",
        "\n",
        "# Asíntotas verticales: x = -2 y x = 2 (donde el denominador se hace cero)\n",
        "asin_verticales = [-2, 2]\n",
        "# Asíntota horizontal: y = 0 (ya que el grado del numerador es menor que el del denominador)\n",
        "\n",
        "plt.figure(figsize=(10, 6))\n",
        "\n",
        "plt.plot(x, y, label='f(x) = (3x + 7) / (x^2 - 4)', color='blue') #Graficar la función\n",
        "\n",
        "for x_asym in asin_verticales:\n",
        "    plt.axvline(x=x_asym, color='red', linestyle='--', label=f'Asíntota vertical x = {x_asym}') #Graficar las asíntotas verticales\n",
        "\n",
        "plt.axhline(y=0, color='green', linestyle='--', label='Asíntota horizontal y = 0') #Graficar la asíntota horizontal\n",
        "\n",
        "plt.ylim(-10, 10) #Límites del eje y\n",
        "\n",
        "plt.title('Gráfica de la función f(x)')\n",
        "plt.xlabel('x')\n",
        "plt.ylabel('f(x)') #Título y etiquetas\n",
        "\n",
        "plt.legend()\n",
        "\n",
        "#Gráfica\n",
        "plt.grid()\n",
        "plt.show()"
      ],
      "metadata": {
        "id": "dgR2t7Ypx_sF",
        "outputId": "01da021e-4b7e-40ac-f9bc-6dd10638dd08",
        "colab": {
          "base_uri": "https://localhost:8080/",
          "height": 564
        }
      },
      "execution_count": 14,
      "outputs": [
        {
          "output_type": "display_data",
          "data": {
            "text/plain": [
              "<Figure size 1000x600 with 1 Axes>"
            ],
            "image/png": "[encoded data removed]"
          },
          "metadata": {}
        }
      ]
    }
  ]
}